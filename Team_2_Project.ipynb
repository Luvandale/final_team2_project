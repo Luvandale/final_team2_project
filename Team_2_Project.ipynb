{
  "nbformat": 4,
  "nbformat_minor": 0,
  "metadata": {
    "colab": {
      "name": "Team_2_Project",
      "provenance": [],
      "collapsed_sections": []
    },
    "kernelspec": {
      "name": "python3",
      "display_name": "Python 3"
    }
  },
  "cells": [
    {
      "cell_type": "markdown",
      "metadata": {
        "id": "HQUzplwMIBlw",
        "colab_type": "text"
      },
      "source": [
        "MORINGA DATA SCIENCE PREP: WEEK 5"
      ]
    },
    {
      "cell_type": "markdown",
      "metadata": {
        "id": "QOnrZMjAyCl-",
        "colab_type": "text"
      },
      "source": [
        "E-COMMERCE RETAIL COMPANY BASED IN THE UK \n",
        "\n",
        "\n",
        "source of the dataset; '/content/data.csv'\n",
        "\n",
        " from kaggle website\n",
        "\n",
        "OBJECTIVE\n",
        "\n",
        "Which products, country, month should the e-commerce retailer focus on and which products should it do away with in a  bid to improve its marketing, inventory management and yearly turnover? "
      ]
    },
    {
      "cell_type": "markdown",
      "metadata": {
        "id": "h8y5_965BDDz",
        "colab_type": "text"
      },
      "source": [
        "questions\n",
        "\n",
        "i) Which is the peak month of the year? Which is the most popular day for purchases?  \n",
        "\n",
        "\n",
        "ii) Which product is most popularly bought in the United Kingdom, France and Australia?Which are the top three countries? Which item has brought in most returns? Overall and in the individual countries? Is the most popular product the one that has the most revenue?\n",
        "\n",
        "\n",
        "iii) Which products are more likely to have cancelling issues? The country with the highest cancelling issues,the popular product cancelled least and the highest.\n",
        "\n",
        "\n",
        "   iv) Which items have brought in the least returns? Overall and in the individual countries?    Does the least popular product bring in the least returns? \n",
        " \n",
        "\n",
        "  v) Which country do we have the most customers from? Is it the country bringing the most revenue? What is the average expenditure of a consumer in the UK? Germany? France? \n",
        "\n",
        " \n",
        "vi) Which country  is seen to require more marketing to optimize its expenditure?\n"
      ]
    },
    {
      "cell_type": "markdown",
      "metadata": {
        "id": "b3N0nyOtOr0Y",
        "colab_type": "text"
      },
      "source": [
        "importing libraries"
      ]
    },
    {
      "cell_type": "code",
      "metadata": {
        "id": "ZzbkUi4GCRK9",
        "colab_type": "code",
        "outputId": "193563cc-b4bf-413d-9171-1fb8aaf621e7",
        "colab": {
          "base_uri": "https://localhost:8080/",
          "height": 71
        }
      },
      "source": [
        "import pandas as pd\n",
        "import numpy as np\n",
        "import seaborn as sns\n",
        "import matplotlib.pyplot as pit"
      ],
      "execution_count": 0,
      "outputs": [
        {
          "output_type": "stream",
          "text": [
            "/usr/local/lib/python3.6/dist-packages/statsmodels/tools/_testing.py:19: FutureWarning: pandas.util.testing is deprecated. Use the functions in the public API at pandas.testing instead.\n",
            "  import pandas.util.testing as tm\n"
          ],
          "name": "stderr"
        }
      ]
    },
    {
      "cell_type": "markdown",
      "metadata": {
        "id": "0ktN7ROOlJ3U",
        "colab_type": "text"
      },
      "source": [
        "loading our csv files "
      ]
    },
    {
      "cell_type": "code",
      "metadata": {
        "id": "Jy_rpbW0CfPY",
        "colab_type": "code",
        "outputId": "9f35e76c-0e05-4457-b9db-a63bdfd859ca",
        "colab": {
          "base_uri": "https://localhost:8080/",
          "height": 529
        }
      },
      "source": [
        "#loading our csv files and previewing the first 10 rows\n",
        "url = '/content/data.csv'\n",
        "df = pd.read_csv(url, encoding='latin1')\n",
        "df.head(10)"
      ],
      "execution_count": 0,
      "outputs": [
        {
          "output_type": "execute_result",
          "data": {
            "text/html": [
              "<div>\n",
              "<style scoped>\n",
              "    .dataframe tbody tr th:only-of-type {\n",
              "        vertical-align: middle;\n",
              "    }\n",
              "\n",
              "    .dataframe tbody tr th {\n",
              "        vertical-align: top;\n",
              "    }\n",
              "\n",
              "    .dataframe thead th {\n",
              "        text-align: right;\n",
              "    }\n",
              "</style>\n",
              "<table border=\"1\" class=\"dataframe\">\n",
              "  <thead>\n",
              "    <tr style=\"text-align: right;\">\n",
              "      <th></th>\n",
              "      <th>InvoiceNo</th>\n",
              "      <th>StockCode</th>\n",
              "      <th>Description</th>\n",
              "      <th>Quantity</th>\n",
              "      <th>InvoiceDate</th>\n",
              "      <th>UnitPrice</th>\n",
              "      <th>CustomerID</th>\n",
              "      <th>Country</th>\n",
              "    </tr>\n",
              "  </thead>\n",
              "  <tbody>\n",
              "    <tr>\n",
              "      <th>0</th>\n",
              "      <td>536365</td>\n",
              "      <td>85123A</td>\n",
              "      <td>WHITE HANGING HEART T-LIGHT HOLDER</td>\n",
              "      <td>6.0</td>\n",
              "      <td>12/1/2010 8:26</td>\n",
              "      <td>2.55</td>\n",
              "      <td>17850.0</td>\n",
              "      <td>United Kingdom</td>\n",
              "    </tr>\n",
              "    <tr>\n",
              "      <th>1</th>\n",
              "      <td>536365</td>\n",
              "      <td>71053</td>\n",
              "      <td>WHITE METAL LANTERN</td>\n",
              "      <td>6.0</td>\n",
              "      <td>12/1/2010 8:26</td>\n",
              "      <td>3.39</td>\n",
              "      <td>17850.0</td>\n",
              "      <td>United Kingdom</td>\n",
              "    </tr>\n",
              "    <tr>\n",
              "      <th>2</th>\n",
              "      <td>536365</td>\n",
              "      <td>84406B</td>\n",
              "      <td>CREAM CUPID HEARTS COAT HANGER</td>\n",
              "      <td>8.0</td>\n",
              "      <td>12/1/2010 8:26</td>\n",
              "      <td>2.75</td>\n",
              "      <td>17850.0</td>\n",
              "      <td>United Kingdom</td>\n",
              "    </tr>\n",
              "    <tr>\n",
              "      <th>3</th>\n",
              "      <td>536365</td>\n",
              "      <td>84029G</td>\n",
              "      <td>KNITTED UNION FLAG HOT WATER BOTTLE</td>\n",
              "      <td>6.0</td>\n",
              "      <td>12/1/2010 8:26</td>\n",
              "      <td>3.39</td>\n",
              "      <td>17850.0</td>\n",
              "      <td>United Kingdom</td>\n",
              "    </tr>\n",
              "    <tr>\n",
              "      <th>4</th>\n",
              "      <td>536365</td>\n",
              "      <td>84029E</td>\n",
              "      <td>RED WOOLLY HOTTIE WHITE HEART.</td>\n",
              "      <td>6.0</td>\n",
              "      <td>12/1/2010 8:26</td>\n",
              "      <td>3.39</td>\n",
              "      <td>17850.0</td>\n",
              "      <td>United Kingdom</td>\n",
              "    </tr>\n",
              "    <tr>\n",
              "      <th>5</th>\n",
              "      <td>536365</td>\n",
              "      <td>22752</td>\n",
              "      <td>SET 7 BABUSHKA NESTING BOXES</td>\n",
              "      <td>2.0</td>\n",
              "      <td>12/1/2010 8:26</td>\n",
              "      <td>7.65</td>\n",
              "      <td>17850.0</td>\n",
              "      <td>United Kingdom</td>\n",
              "    </tr>\n",
              "    <tr>\n",
              "      <th>6</th>\n",
              "      <td>536365</td>\n",
              "      <td>21730</td>\n",
              "      <td>GLASS STAR FROSTED T-LIGHT HOLDER</td>\n",
              "      <td>6.0</td>\n",
              "      <td>12/1/2010 8:26</td>\n",
              "      <td>4.25</td>\n",
              "      <td>17850.0</td>\n",
              "      <td>United Kingdom</td>\n",
              "    </tr>\n",
              "    <tr>\n",
              "      <th>7</th>\n",
              "      <td>536366</td>\n",
              "      <td>22633</td>\n",
              "      <td>HAND WARMER UNION JACK</td>\n",
              "      <td>6.0</td>\n",
              "      <td>12/1/2010 8:28</td>\n",
              "      <td>1.85</td>\n",
              "      <td>17850.0</td>\n",
              "      <td>United Kingdom</td>\n",
              "    </tr>\n",
              "    <tr>\n",
              "      <th>8</th>\n",
              "      <td>536366</td>\n",
              "      <td>22632</td>\n",
              "      <td>HAND WARMER RED POLKA DOT</td>\n",
              "      <td>6.0</td>\n",
              "      <td>12/1/2010 8:28</td>\n",
              "      <td>1.85</td>\n",
              "      <td>17850.0</td>\n",
              "      <td>United Kingdom</td>\n",
              "    </tr>\n",
              "    <tr>\n",
              "      <th>9</th>\n",
              "      <td>536367</td>\n",
              "      <td>84879</td>\n",
              "      <td>ASSORTED COLOUR BIRD ORNAMENT</td>\n",
              "      <td>32.0</td>\n",
              "      <td>12/1/2010 8:34</td>\n",
              "      <td>1.69</td>\n",
              "      <td>13047.0</td>\n",
              "      <td>United Kingdom</td>\n",
              "    </tr>\n",
              "  </tbody>\n",
              "</table>\n",
              "</div>"
            ],
            "text/plain": [
              "  InvoiceNo StockCode  ... CustomerID         Country\n",
              "0    536365    85123A  ...    17850.0  United Kingdom\n",
              "1    536365     71053  ...    17850.0  United Kingdom\n",
              "2    536365    84406B  ...    17850.0  United Kingdom\n",
              "3    536365    84029G  ...    17850.0  United Kingdom\n",
              "4    536365    84029E  ...    17850.0  United Kingdom\n",
              "5    536365     22752  ...    17850.0  United Kingdom\n",
              "6    536365     21730  ...    17850.0  United Kingdom\n",
              "7    536366     22633  ...    17850.0  United Kingdom\n",
              "8    536366     22632  ...    17850.0  United Kingdom\n",
              "9    536367     84879  ...    13047.0  United Kingdom\n",
              "\n",
              "[10 rows x 8 columns]"
            ]
          },
          "metadata": {
            "tags": []
          },
          "execution_count": 2
        }
      ]
    },
    {
      "cell_type": "markdown",
      "metadata": {
        "id": "QoAf_gbwl61v",
        "colab_type": "text"
      },
      "source": [
        "Previewing information about our dataset."
      ]
    },
    {
      "cell_type": "code",
      "metadata": {
        "id": "meRf-L02Ds16",
        "colab_type": "code",
        "outputId": "a37d63e2-64c2-4169-8b27-ba440762baa1",
        "colab": {
          "base_uri": "https://localhost:8080/",
          "height": 272
        }
      },
      "source": [
        "df.info()"
      ],
      "execution_count": 0,
      "outputs": [
        {
          "output_type": "stream",
          "text": [
            "<class 'pandas.core.frame.DataFrame'>\n",
            "RangeIndex: 412977 entries, 0 to 412976\n",
            "Data columns (total 8 columns):\n",
            " #   Column       Non-Null Count   Dtype  \n",
            "---  ------       --------------   -----  \n",
            " 0   InvoiceNo    412977 non-null  object \n",
            " 1   StockCode    412977 non-null  object \n",
            " 2   Description  411634 non-null  object \n",
            " 3   Quantity     412976 non-null  float64\n",
            " 4   InvoiceDate  412976 non-null  object \n",
            " 5   UnitPrice    412976 non-null  float64\n",
            " 6   CustomerID   308494 non-null  float64\n",
            " 7   Country      412976 non-null  object \n",
            "dtypes: float64(3), object(5)\n",
            "memory usage: 25.2+ MB\n"
          ],
          "name": "stdout"
        }
      ]
    },
    {
      "cell_type": "code",
      "metadata": {
        "id": "EfQ_GpQVV2-q",
        "colab_type": "code",
        "outputId": "feb841c8-c433-4abc-f12d-af63046c559a",
        "colab": {
          "base_uri": "https://localhost:8080/",
          "height": 34
        }
      },
      "source": [
        "df.shape"
      ],
      "execution_count": 0,
      "outputs": [
        {
          "output_type": "execute_result",
          "data": {
            "text/plain": [
              "(412977, 8)"
            ]
          },
          "metadata": {
            "tags": []
          },
          "execution_count": 4
        }
      ]
    },
    {
      "cell_type": "markdown",
      "metadata": {
        "id": "d1pwQEJSYAyM",
        "colab_type": "text"
      },
      "source": [
        "DATA CLEANING "
      ]
    },
    {
      "cell_type": "markdown",
      "metadata": {
        "id": "Jc3Ub3_OX3EB",
        "colab_type": "text"
      },
      "source": [
        "Completeness "
      ]
    },
    {
      "cell_type": "code",
      "metadata": {
        "id": "dqAmMa1jDu34",
        "colab_type": "code",
        "outputId": "73317c3f-a9d2-48cc-fdc8-7ef8e601fc2e",
        "colab": {
          "base_uri": "https://localhost:8080/",
          "height": 170
        }
      },
      "source": [
        "#checking for null values in the datasets\n",
        "df.isnull().sum()"
      ],
      "execution_count": 0,
      "outputs": [
        {
          "output_type": "execute_result",
          "data": {
            "text/plain": [
              "InvoiceNo           0\n",
              "StockCode           0\n",
              "Description      1343\n",
              "Quantity            1\n",
              "InvoiceDate         1\n",
              "UnitPrice           1\n",
              "CustomerID     104483\n",
              "Country             1\n",
              "dtype: int64"
            ]
          },
          "metadata": {
            "tags": []
          },
          "execution_count": 5
        }
      ]
    },
    {
      "cell_type": "code",
      "metadata": {
        "id": "d-ngmnQHD1IC",
        "colab_type": "code",
        "colab": {}
      },
      "source": [
        "#dropping the null values\n",
        "df1=df.dropna()"
      ],
      "execution_count": 0,
      "outputs": []
    },
    {
      "cell_type": "code",
      "metadata": {
        "id": "4c_VxoyWVvqA",
        "colab_type": "code",
        "outputId": "35f617b4-6c57-4b39-b8d4-6ee3528940d4",
        "colab": {
          "base_uri": "https://localhost:8080/",
          "height": 34
        }
      },
      "source": [
        "df1.shape"
      ],
      "execution_count": 0,
      "outputs": [
        {
          "output_type": "execute_result",
          "data": {
            "text/plain": [
              "(308494, 8)"
            ]
          },
          "metadata": {
            "tags": []
          },
          "execution_count": 7
        }
      ]
    },
    {
      "cell_type": "code",
      "metadata": {
        "id": "Vg69xah8cr30",
        "colab_type": "code",
        "outputId": "b3385bb7-3e4b-45b0-a883-514509f26f5a",
        "colab": {
          "base_uri": "https://localhost:8080/",
          "height": 139
        }
      },
      "source": [
        "# changing the InvoiceDate to to_datetime data type\n",
        "df1['InvoiceDate']=pd.to_datetime(df1['InvoiceDate'])"
      ],
      "execution_count": 0,
      "outputs": [
        {
          "output_type": "stream",
          "text": [
            "/usr/local/lib/python3.6/dist-packages/ipykernel_launcher.py:2: SettingWithCopyWarning: \n",
            "A value is trying to be set on a copy of a slice from a DataFrame.\n",
            "Try using .loc[row_indexer,col_indexer] = value instead\n",
            "\n",
            "See the caveats in the documentation: https://pandas.pydata.org/pandas-docs/stable/user_guide/indexing.html#returning-a-view-versus-a-copy\n",
            "  \n"
          ],
          "name": "stderr"
        }
      ]
    },
    {
      "cell_type": "code",
      "metadata": {
        "id": "coio3heAd1JR",
        "colab_type": "code",
        "outputId": "c1e5f0f8-71bf-48db-985d-3bd94455a05c",
        "colab": {
          "base_uri": "https://localhost:8080/",
          "height": 445
        }
      },
      "source": [
        "#splitting datetime to date and time\n",
        "df1['date'] = [d.date() for d in df1.InvoiceDate]\n",
        "df1['time'] = [d.time() for d in df1.InvoiceDate]\n",
        "df1['date'] = pd.to_datetime(df1['date'])\n",
        "df1['time'] = pd.to_datetime(df1['time'], format='%H:%M:%S:%f', errors = 'ignore')"
      ],
      "execution_count": 0,
      "outputs": [
        {
          "output_type": "stream",
          "text": [
            "/usr/local/lib/python3.6/dist-packages/ipykernel_launcher.py:2: SettingWithCopyWarning: \n",
            "A value is trying to be set on a copy of a slice from a DataFrame.\n",
            "Try using .loc[row_indexer,col_indexer] = value instead\n",
            "\n",
            "See the caveats in the documentation: https://pandas.pydata.org/pandas-docs/stable/user_guide/indexing.html#returning-a-view-versus-a-copy\n",
            "  \n",
            "/usr/local/lib/python3.6/dist-packages/ipykernel_launcher.py:3: SettingWithCopyWarning: \n",
            "A value is trying to be set on a copy of a slice from a DataFrame.\n",
            "Try using .loc[row_indexer,col_indexer] = value instead\n",
            "\n",
            "See the caveats in the documentation: https://pandas.pydata.org/pandas-docs/stable/user_guide/indexing.html#returning-a-view-versus-a-copy\n",
            "  This is separate from the ipykernel package so we can avoid doing imports until\n",
            "/usr/local/lib/python3.6/dist-packages/ipykernel_launcher.py:4: SettingWithCopyWarning: \n",
            "A value is trying to be set on a copy of a slice from a DataFrame.\n",
            "Try using .loc[row_indexer,col_indexer] = value instead\n",
            "\n",
            "See the caveats in the documentation: https://pandas.pydata.org/pandas-docs/stable/user_guide/indexing.html#returning-a-view-versus-a-copy\n",
            "  after removing the cwd from sys.path.\n",
            "/usr/local/lib/python3.6/dist-packages/ipykernel_launcher.py:5: SettingWithCopyWarning: \n",
            "A value is trying to be set on a copy of a slice from a DataFrame.\n",
            "Try using .loc[row_indexer,col_indexer] = value instead\n",
            "\n",
            "See the caveats in the documentation: https://pandas.pydata.org/pandas-docs/stable/user_guide/indexing.html#returning-a-view-versus-a-copy\n",
            "  \"\"\"\n"
          ],
          "name": "stderr"
        }
      ]
    },
    {
      "cell_type": "code",
      "metadata": {
        "id": "xcwObl88gOTP",
        "colab_type": "code",
        "outputId": "e370341a-c40e-4baa-cc46-38fe4130e79a",
        "colab": {
          "base_uri": "https://localhost:8080/",
          "height": 306
        }
      },
      "source": [
        "df1.info()"
      ],
      "execution_count": 0,
      "outputs": [
        {
          "output_type": "stream",
          "text": [
            "<class 'pandas.core.frame.DataFrame'>\n",
            "Int64Index: 308494 entries, 0 to 412975\n",
            "Data columns (total 10 columns):\n",
            " #   Column       Non-Null Count   Dtype         \n",
            "---  ------       --------------   -----         \n",
            " 0   InvoiceNo    308494 non-null  object        \n",
            " 1   StockCode    308494 non-null  object        \n",
            " 2   Description  308494 non-null  object        \n",
            " 3   Quantity     308494 non-null  float64       \n",
            " 4   InvoiceDate  308494 non-null  datetime64[ns]\n",
            " 5   UnitPrice    308494 non-null  float64       \n",
            " 6   CustomerID   308494 non-null  float64       \n",
            " 7   Country      308494 non-null  object        \n",
            " 8   date         308494 non-null  datetime64[ns]\n",
            " 9   time         308494 non-null  object        \n",
            "dtypes: datetime64[ns](2), float64(3), object(5)\n",
            "memory usage: 25.9+ MB\n"
          ],
          "name": "stdout"
        }
      ]
    },
    {
      "cell_type": "code",
      "metadata": {
        "id": "Gih_WPd2lfW8",
        "colab_type": "code",
        "outputId": "faf6a66b-ae88-430b-cc32-0a24c13a1518",
        "colab": {
          "base_uri": "https://localhost:8080/",
          "height": 377
        }
      },
      "source": [
        "# splitting  time to hours, minutes and seconds.\n",
        "df1[['h','m','s']] = df1['time'].astype(str).str.split(':', expand=True).astype(int)\n",
        "\n",
        "print (df1)"
      ],
      "execution_count": 0,
      "outputs": [
        {
          "output_type": "stream",
          "text": [
            "       InvoiceNo StockCode                          Description  ...   h   m  s\n",
            "0         536365    85123A   WHITE HANGING HEART T-LIGHT HOLDER  ...   8  26  0\n",
            "1         536365     71053                  WHITE METAL LANTERN  ...   8  26  0\n",
            "2         536365    84406B       CREAM CUPID HEARTS COAT HANGER  ...   8  26  0\n",
            "3         536365    84029G  KNITTED UNION FLAG HOT WATER BOTTLE  ...   8  26  0\n",
            "4         536365    84029E       RED WOOLLY HOTTIE WHITE HEART.  ...   8  26  0\n",
            "...          ...       ...                                  ...  ...  ..  .. ..\n",
            "412971    572302     21912             VINTAGE SNAKES & LADDERS  ...  14  47  0\n",
            "412972    572302     22895  SET OF 2 TEA TOWELS APPLE AND PEARS  ...  14  47  0\n",
            "412973    572302     22897              OVEN MITT APPLES DESIGN  ...  14  47  0\n",
            "412974    572302     22840           ROUND CAKE TIN VINTAGE RED  ...  14  47  0\n",
            "412975    572302    84997D      CHILDRENS CUTLERY POLKADOT PINK  ...  14  47  0\n",
            "\n",
            "[308494 rows x 13 columns]\n"
          ],
          "name": "stdout"
        },
        {
          "output_type": "stream",
          "text": [
            "/usr/local/lib/python3.6/dist-packages/pandas/core/frame.py:2963: SettingWithCopyWarning: \n",
            "A value is trying to be set on a copy of a slice from a DataFrame.\n",
            "Try using .loc[row_indexer,col_indexer] = value instead\n",
            "\n",
            "See the caveats in the documentation: https://pandas.pydata.org/pandas-docs/stable/user_guide/indexing.html#returning-a-view-versus-a-copy\n",
            "  self[k1] = value[k2]\n"
          ],
          "name": "stderr"
        }
      ]
    },
    {
      "cell_type": "code",
      "metadata": {
        "id": "VzqJfhwsHRMD",
        "colab_type": "code",
        "outputId": "0c7a6f4e-2c12-4511-829c-14f09f68200c",
        "colab": {
          "base_uri": "https://localhost:8080/",
          "height": 377
        }
      },
      "source": [
        "# splitting date to year,month and the day\n",
        "df1[['yy','mm','dd']] = df1['date'].astype(str).str.split('-', expand=True).astype(int)\n",
        "\n",
        "print (df1)\n",
        "\n"
      ],
      "execution_count": 0,
      "outputs": [
        {
          "output_type": "stream",
          "text": [
            "       InvoiceNo StockCode                          Description  ...    yy  mm  dd\n",
            "0         536365    85123A   WHITE HANGING HEART T-LIGHT HOLDER  ...  2010  12   1\n",
            "1         536365     71053                  WHITE METAL LANTERN  ...  2010  12   1\n",
            "2         536365    84406B       CREAM CUPID HEARTS COAT HANGER  ...  2010  12   1\n",
            "3         536365    84029G  KNITTED UNION FLAG HOT WATER BOTTLE  ...  2010  12   1\n",
            "4         536365    84029E       RED WOOLLY HOTTIE WHITE HEART.  ...  2010  12   1\n",
            "...          ...       ...                                  ...  ...   ...  ..  ..\n",
            "412971    572302     21912             VINTAGE SNAKES & LADDERS  ...  2011  10  23\n",
            "412972    572302     22895  SET OF 2 TEA TOWELS APPLE AND PEARS  ...  2011  10  23\n",
            "412973    572302     22897              OVEN MITT APPLES DESIGN  ...  2011  10  23\n",
            "412974    572302     22840           ROUND CAKE TIN VINTAGE RED  ...  2011  10  23\n",
            "412975    572302    84997D      CHILDRENS CUTLERY POLKADOT PINK  ...  2011  10  23\n",
            "\n",
            "[308494 rows x 16 columns]\n"
          ],
          "name": "stdout"
        },
        {
          "output_type": "stream",
          "text": [
            "/usr/local/lib/python3.6/dist-packages/pandas/core/frame.py:2963: SettingWithCopyWarning: \n",
            "A value is trying to be set on a copy of a slice from a DataFrame.\n",
            "Try using .loc[row_indexer,col_indexer] = value instead\n",
            "\n",
            "See the caveats in the documentation: https://pandas.pydata.org/pandas-docs/stable/user_guide/indexing.html#returning-a-view-versus-a-copy\n",
            "  self[k1] = value[k2]\n"
          ],
          "name": "stderr"
        }
      ]
    },
    {
      "cell_type": "code",
      "metadata": {
        "id": "rHFNQ2g5pyyg",
        "colab_type": "code",
        "colab": {}
      },
      "source": [
        "#creating a dataframe without cancelled transactions.\n",
        "df3=df1[~(df1.InvoiceNo.str.startswith('C'))]"
      ],
      "execution_count": 0,
      "outputs": []
    },
    {
      "cell_type": "code",
      "metadata": {
        "id": "4Wq4SxzJRNfI",
        "colab_type": "code",
        "outputId": "55f1a8b0-3e41-4e61-d2f8-4ea8fd563a14",
        "colab": {
          "base_uri": "https://localhost:8080/",
          "height": 408
        }
      },
      "source": [
        "df3.info()"
      ],
      "execution_count": 0,
      "outputs": [
        {
          "output_type": "stream",
          "text": [
            "<class 'pandas.core.frame.DataFrame'>\n",
            "Int64Index: 301212 entries, 0 to 412975\n",
            "Data columns (total 16 columns):\n",
            " #   Column       Non-Null Count   Dtype         \n",
            "---  ------       --------------   -----         \n",
            " 0   InvoiceNo    301212 non-null  object        \n",
            " 1   StockCode    301212 non-null  object        \n",
            " 2   Description  301212 non-null  object        \n",
            " 3   Quantity     301212 non-null  float64       \n",
            " 4   InvoiceDate  301212 non-null  datetime64[ns]\n",
            " 5   UnitPrice    301212 non-null  float64       \n",
            " 6   CustomerID   301212 non-null  float64       \n",
            " 7   Country      301212 non-null  object        \n",
            " 8   date         301212 non-null  datetime64[ns]\n",
            " 9   time         301212 non-null  object        \n",
            " 10  h            301212 non-null  int64         \n",
            " 11  m            301212 non-null  int64         \n",
            " 12  s            301212 non-null  int64         \n",
            " 13  yy           301212 non-null  int64         \n",
            " 14  mm           301212 non-null  int64         \n",
            " 15  dd           301212 non-null  int64         \n",
            "dtypes: datetime64[ns](2), float64(3), int64(6), object(5)\n",
            "memory usage: 39.1+ MB\n"
          ],
          "name": "stdout"
        }
      ]
    },
    {
      "cell_type": "code",
      "metadata": {
        "id": "2lZPkDPOmPrs",
        "colab_type": "code",
        "outputId": "31bf61f9-0e5b-48ad-8d00-0d3d7f8ad74d",
        "colab": {
          "base_uri": "https://localhost:8080/",
          "height": 530
        }
      },
      "source": [
        "df3.head()"
      ],
      "execution_count": 0,
      "outputs": [
        {
          "output_type": "execute_result",
          "data": {
            "text/html": [
              "<div>\n",
              "<style scoped>\n",
              "    .dataframe tbody tr th:only-of-type {\n",
              "        vertical-align: middle;\n",
              "    }\n",
              "\n",
              "    .dataframe tbody tr th {\n",
              "        vertical-align: top;\n",
              "    }\n",
              "\n",
              "    .dataframe thead th {\n",
              "        text-align: right;\n",
              "    }\n",
              "</style>\n",
              "<table border=\"1\" class=\"dataframe\">\n",
              "  <thead>\n",
              "    <tr style=\"text-align: right;\">\n",
              "      <th></th>\n",
              "      <th>InvoiceNo</th>\n",
              "      <th>StockCode</th>\n",
              "      <th>Description</th>\n",
              "      <th>Quantity</th>\n",
              "      <th>InvoiceDate</th>\n",
              "      <th>UnitPrice</th>\n",
              "      <th>CustomerID</th>\n",
              "      <th>Country</th>\n",
              "      <th>date</th>\n",
              "      <th>time</th>\n",
              "      <th>h</th>\n",
              "      <th>m</th>\n",
              "      <th>s</th>\n",
              "      <th>yy</th>\n",
              "      <th>mm</th>\n",
              "      <th>dd</th>\n",
              "    </tr>\n",
              "  </thead>\n",
              "  <tbody>\n",
              "    <tr>\n",
              "      <th>0</th>\n",
              "      <td>536365</td>\n",
              "      <td>85123A</td>\n",
              "      <td>WHITE HANGING HEART T-LIGHT HOLDER</td>\n",
              "      <td>6.0</td>\n",
              "      <td>2010-12-01 08:26:00</td>\n",
              "      <td>2.55</td>\n",
              "      <td>17850.0</td>\n",
              "      <td>United Kingdom</td>\n",
              "      <td>2010-12-01</td>\n",
              "      <td>08:26:00</td>\n",
              "      <td>8</td>\n",
              "      <td>26</td>\n",
              "      <td>0</td>\n",
              "      <td>2010</td>\n",
              "      <td>12</td>\n",
              "      <td>1</td>\n",
              "    </tr>\n",
              "    <tr>\n",
              "      <th>1</th>\n",
              "      <td>536365</td>\n",
              "      <td>71053</td>\n",
              "      <td>WHITE METAL LANTERN</td>\n",
              "      <td>6.0</td>\n",
              "      <td>2010-12-01 08:26:00</td>\n",
              "      <td>3.39</td>\n",
              "      <td>17850.0</td>\n",
              "      <td>United Kingdom</td>\n",
              "      <td>2010-12-01</td>\n",
              "      <td>08:26:00</td>\n",
              "      <td>8</td>\n",
              "      <td>26</td>\n",
              "      <td>0</td>\n",
              "      <td>2010</td>\n",
              "      <td>12</td>\n",
              "      <td>1</td>\n",
              "    </tr>\n",
              "    <tr>\n",
              "      <th>2</th>\n",
              "      <td>536365</td>\n",
              "      <td>84406B</td>\n",
              "      <td>CREAM CUPID HEARTS COAT HANGER</td>\n",
              "      <td>8.0</td>\n",
              "      <td>2010-12-01 08:26:00</td>\n",
              "      <td>2.75</td>\n",
              "      <td>17850.0</td>\n",
              "      <td>United Kingdom</td>\n",
              "      <td>2010-12-01</td>\n",
              "      <td>08:26:00</td>\n",
              "      <td>8</td>\n",
              "      <td>26</td>\n",
              "      <td>0</td>\n",
              "      <td>2010</td>\n",
              "      <td>12</td>\n",
              "      <td>1</td>\n",
              "    </tr>\n",
              "    <tr>\n",
              "      <th>3</th>\n",
              "      <td>536365</td>\n",
              "      <td>84029G</td>\n",
              "      <td>KNITTED UNION FLAG HOT WATER BOTTLE</td>\n",
              "      <td>6.0</td>\n",
              "      <td>2010-12-01 08:26:00</td>\n",
              "      <td>3.39</td>\n",
              "      <td>17850.0</td>\n",
              "      <td>United Kingdom</td>\n",
              "      <td>2010-12-01</td>\n",
              "      <td>08:26:00</td>\n",
              "      <td>8</td>\n",
              "      <td>26</td>\n",
              "      <td>0</td>\n",
              "      <td>2010</td>\n",
              "      <td>12</td>\n",
              "      <td>1</td>\n",
              "    </tr>\n",
              "    <tr>\n",
              "      <th>4</th>\n",
              "      <td>536365</td>\n",
              "      <td>84029E</td>\n",
              "      <td>RED WOOLLY HOTTIE WHITE HEART.</td>\n",
              "      <td>6.0</td>\n",
              "      <td>2010-12-01 08:26:00</td>\n",
              "      <td>3.39</td>\n",
              "      <td>17850.0</td>\n",
              "      <td>United Kingdom</td>\n",
              "      <td>2010-12-01</td>\n",
              "      <td>08:26:00</td>\n",
              "      <td>8</td>\n",
              "      <td>26</td>\n",
              "      <td>0</td>\n",
              "      <td>2010</td>\n",
              "      <td>12</td>\n",
              "      <td>1</td>\n",
              "    </tr>\n",
              "  </tbody>\n",
              "</table>\n",
              "</div>"
            ],
            "text/plain": [
              "  InvoiceNo StockCode                          Description  ...    yy  mm  dd\n",
              "0    536365    85123A   WHITE HANGING HEART T-LIGHT HOLDER  ...  2010  12   1\n",
              "1    536365     71053                  WHITE METAL LANTERN  ...  2010  12   1\n",
              "2    536365    84406B       CREAM CUPID HEARTS COAT HANGER  ...  2010  12   1\n",
              "3    536365    84029G  KNITTED UNION FLAG HOT WATER BOTTLE  ...  2010  12   1\n",
              "4    536365    84029E       RED WOOLLY HOTTIE WHITE HEART.  ...  2010  12   1\n",
              "\n",
              "[5 rows x 16 columns]"
            ]
          },
          "metadata": {
            "tags": []
          },
          "execution_count": 15
        }
      ]
    },
    {
      "cell_type": "code",
      "metadata": {
        "id": "f8ZoYMwzOSXp",
        "colab_type": "code",
        "outputId": "1ef62421-5026-4e16-86af-f7becbdcc175",
        "colab": {
          "base_uri": "https://localhost:8080/",
          "height": 139
        }
      },
      "source": [
        "#creating a new column for the total expenditure, quantity*unitprice\n",
        "df3['Total Expenditure']=df3.Quantity * df3.UnitPrice\n"
      ],
      "execution_count": 0,
      "outputs": [
        {
          "output_type": "stream",
          "text": [
            "/usr/local/lib/python3.6/dist-packages/ipykernel_launcher.py:2: SettingWithCopyWarning: \n",
            "A value is trying to be set on a copy of a slice from a DataFrame.\n",
            "Try using .loc[row_indexer,col_indexer] = value instead\n",
            "\n",
            "See the caveats in the documentation: https://pandas.pydata.org/pandas-docs/stable/user_guide/indexing.html#returning-a-view-versus-a-copy\n",
            "  \n"
          ],
          "name": "stderr"
        }
      ]
    },
    {
      "cell_type": "code",
      "metadata": {
        "id": "kuFqfc_is2Xu",
        "colab_type": "code",
        "outputId": "1fba36a8-86c4-4ddf-e2cc-4973e8ae9dd1",
        "colab": {
          "base_uri": "https://localhost:8080/",
          "height": 284
        }
      },
      "source": [
        "#checking for outliers from our total expenditure column using a boxplot\n",
        "import matplotlib.pyplot as pit\n",
        "% matplotlib inline\n",
        "df3.boxplot(column = [\"Total Expenditure\"],grid = False)"
      ],
      "execution_count": 0,
      "outputs": [
        {
          "output_type": "execute_result",
          "data": {
            "text/plain": [
              "<matplotlib.axes._subplots.AxesSubplot at 0x7f60df3324e0>"
            ]
          },
          "metadata": {
            "tags": []
          },
          "execution_count": 17
        },
        {
          "output_type": "display_data",
          "data": {
            "image/png": "[encoded data removed]",
            "text/plain": [
              "<Figure size 432x288 with 1 Axes>"
            ]
          },
          "metadata": {
            "tags": [],
            "needs_background": "light"
          }
        }
      ]
    },
    {
      "cell_type": "markdown",
      "metadata": {
        "id": "ODotC6mEjQpa",
        "colab_type": "text"
      },
      "source": [
        "Finding the cancelled transactions"
      ]
    },
    {
      "cell_type": "code",
      "metadata": {
        "id": "CfMLzhw-gdae",
        "colab_type": "code",
        "colab": {}
      },
      "source": [
        "#creating a dataframe that has only cancelled transactions\n",
        "df4 = df1[df1.InvoiceNo.str.startswith('C')]"
      ],
      "execution_count": 0,
      "outputs": []
    },
    {
      "cell_type": "code",
      "metadata": {
        "id": "LzyJhQThjqcb",
        "colab_type": "code",
        "outputId": "1b99db8f-5f6e-40b7-fc05-be1174c11bdc",
        "colab": {
          "base_uri": "https://localhost:8080/",
          "height": 445
        }
      },
      "source": [
        "#previewing our dataframe\n",
        "df4.head()"
      ],
      "execution_count": 0,
      "outputs": [
        {
          "output_type": "execute_result",
          "data": {
            "text/html": [
              "<div>\n",
              "<style scoped>\n",
              "    .dataframe tbody tr th:only-of-type {\n",
              "        vertical-align: middle;\n",
              "    }\n",
              "\n",
              "    .dataframe tbody tr th {\n",
              "        vertical-align: top;\n",
              "    }\n",
              "\n",
              "    .dataframe thead th {\n",
              "        text-align: right;\n",
              "    }\n",
              "</style>\n",
              "<table border=\"1\" class=\"dataframe\">\n",
              "  <thead>\n",
              "    <tr style=\"text-align: right;\">\n",
              "      <th></th>\n",
              "      <th>InvoiceNo</th>\n",
              "      <th>StockCode</th>\n",
              "      <th>Description</th>\n",
              "      <th>Quantity</th>\n",
              "      <th>InvoiceDate</th>\n",
              "      <th>UnitPrice</th>\n",
              "      <th>CustomerID</th>\n",
              "      <th>Country</th>\n",
              "      <th>date</th>\n",
              "      <th>time</th>\n",
              "      <th>h</th>\n",
              "      <th>m</th>\n",
              "      <th>s</th>\n",
              "      <th>yy</th>\n",
              "      <th>mm</th>\n",
              "      <th>dd</th>\n",
              "    </tr>\n",
              "  </thead>\n",
              "  <tbody>\n",
              "    <tr>\n",
              "      <th>141</th>\n",
              "      <td>C536379</td>\n",
              "      <td>D</td>\n",
              "      <td>Discount</td>\n",
              "      <td>-1.0</td>\n",
              "      <td>2010-12-01 09:41:00</td>\n",
              "      <td>27.50</td>\n",
              "      <td>14527.0</td>\n",
              "      <td>United Kingdom</td>\n",
              "      <td>2010-12-01</td>\n",
              "      <td>09:41:00</td>\n",
              "      <td>9</td>\n",
              "      <td>41</td>\n",
              "      <td>0</td>\n",
              "      <td>2010</td>\n",
              "      <td>12</td>\n",
              "      <td>1</td>\n",
              "    </tr>\n",
              "    <tr>\n",
              "      <th>154</th>\n",
              "      <td>C536383</td>\n",
              "      <td>35004C</td>\n",
              "      <td>SET OF 3 COLOURED  FLYING DUCKS</td>\n",
              "      <td>-1.0</td>\n",
              "      <td>2010-12-01 09:49:00</td>\n",
              "      <td>4.65</td>\n",
              "      <td>15311.0</td>\n",
              "      <td>United Kingdom</td>\n",
              "      <td>2010-12-01</td>\n",
              "      <td>09:49:00</td>\n",
              "      <td>9</td>\n",
              "      <td>49</td>\n",
              "      <td>0</td>\n",
              "      <td>2010</td>\n",
              "      <td>12</td>\n",
              "      <td>1</td>\n",
              "    </tr>\n",
              "    <tr>\n",
              "      <th>235</th>\n",
              "      <td>C536391</td>\n",
              "      <td>22556</td>\n",
              "      <td>PLASTERS IN TIN CIRCUS PARADE</td>\n",
              "      <td>-12.0</td>\n",
              "      <td>2010-12-01 10:24:00</td>\n",
              "      <td>1.65</td>\n",
              "      <td>17548.0</td>\n",
              "      <td>United Kingdom</td>\n",
              "      <td>2010-12-01</td>\n",
              "      <td>10:24:00</td>\n",
              "      <td>10</td>\n",
              "      <td>24</td>\n",
              "      <td>0</td>\n",
              "      <td>2010</td>\n",
              "      <td>12</td>\n",
              "      <td>1</td>\n",
              "    </tr>\n",
              "    <tr>\n",
              "      <th>236</th>\n",
              "      <td>C536391</td>\n",
              "      <td>21984</td>\n",
              "      <td>PACK OF 12 PINK PAISLEY TISSUES</td>\n",
              "      <td>-24.0</td>\n",
              "      <td>2010-12-01 10:24:00</td>\n",
              "      <td>0.29</td>\n",
              "      <td>17548.0</td>\n",
              "      <td>United Kingdom</td>\n",
              "      <td>2010-12-01</td>\n",
              "      <td>10:24:00</td>\n",
              "      <td>10</td>\n",
              "      <td>24</td>\n",
              "      <td>0</td>\n",
              "      <td>2010</td>\n",
              "      <td>12</td>\n",
              "      <td>1</td>\n",
              "    </tr>\n",
              "    <tr>\n",
              "      <th>237</th>\n",
              "      <td>C536391</td>\n",
              "      <td>21983</td>\n",
              "      <td>PACK OF 12 BLUE PAISLEY TISSUES</td>\n",
              "      <td>-24.0</td>\n",
              "      <td>2010-12-01 10:24:00</td>\n",
              "      <td>0.29</td>\n",
              "      <td>17548.0</td>\n",
              "      <td>United Kingdom</td>\n",
              "      <td>2010-12-01</td>\n",
              "      <td>10:24:00</td>\n",
              "      <td>10</td>\n",
              "      <td>24</td>\n",
              "      <td>0</td>\n",
              "      <td>2010</td>\n",
              "      <td>12</td>\n",
              "      <td>1</td>\n",
              "    </tr>\n",
              "  </tbody>\n",
              "</table>\n",
              "</div>"
            ],
            "text/plain": [
              "    InvoiceNo StockCode                       Description  ...    yy  mm  dd\n",
              "141   C536379         D                          Discount  ...  2010  12   1\n",
              "154   C536383    35004C   SET OF 3 COLOURED  FLYING DUCKS  ...  2010  12   1\n",
              "235   C536391     22556    PLASTERS IN TIN CIRCUS PARADE   ...  2010  12   1\n",
              "236   C536391     21984  PACK OF 12 PINK PAISLEY TISSUES   ...  2010  12   1\n",
              "237   C536391     21983  PACK OF 12 BLUE PAISLEY TISSUES   ...  2010  12   1\n",
              "\n",
              "[5 rows x 16 columns]"
            ]
          },
          "metadata": {
            "tags": []
          },
          "execution_count": 19
        }
      ]
    },
    {
      "cell_type": "code",
      "metadata": {
        "id": "FPPwOPAJjtkt",
        "colab_type": "code",
        "outputId": "3188d8c7-fca4-4cca-a843-c014b4a3190a",
        "colab": {
          "base_uri": "https://localhost:8080/",
          "height": 306
        }
      },
      "source": [
        "#counting the cancelled transactions \n",
        "df4.count()"
      ],
      "execution_count": 0,
      "outputs": [
        {
          "output_type": "execute_result",
          "data": {
            "text/plain": [
              "InvoiceNo      7282\n",
              "StockCode      7282\n",
              "Description    7282\n",
              "Quantity       7282\n",
              "InvoiceDate    7282\n",
              "UnitPrice      7282\n",
              "CustomerID     7282\n",
              "Country        7282\n",
              "date           7282\n",
              "time           7282\n",
              "h              7282\n",
              "m              7282\n",
              "s              7282\n",
              "yy             7282\n",
              "mm             7282\n",
              "dd             7282\n",
              "dtype: int64"
            ]
          },
          "metadata": {
            "tags": []
          },
          "execution_count": 20
        }
      ]
    },
    {
      "cell_type": "markdown",
      "metadata": {
        "id": "gPyF0sFoXEmI",
        "colab_type": "text"
      },
      "source": [
        "**DATA ANALYSIS**"
      ]
    },
    {
      "cell_type": "markdown",
      "metadata": {
        "id": "A1t9c34aXo3I",
        "colab_type": "text"
      },
      "source": [
        "1) Which is the peak month of the year? ,, Which is the most popular day for purchases?  which is the most popular hour in the most popular day."
      ]
    },
    {
      "cell_type": "markdown",
      "metadata": {
        "id": "nyq0s4aylS5G",
        "colab_type": "text"
      },
      "source": [
        "i) which is the peak month of the year"
      ]
    },
    {
      "cell_type": "code",
      "metadata": {
        "id": "3_E75C0XKHbg",
        "colab_type": "code",
        "outputId": "171a0e5f-4c5f-491d-9c55-655cb0433eda",
        "colab": {
          "base_uri": "https://localhost:8080/",
          "height": 440
        }
      },
      "source": [
        "sns.set(font_scale=1.4)\n",
        "df3['mm'].value_counts().plot(kind='bar',figsize=(7,6),rot=0)\n",
        "pit.xlabel('Months',labelpad=14)\n",
        "pit.ylabel('Total Expenditure', labelpad=14)\n",
        "pit.title('Total Expenditure by month graph',y=1.02);"
      ],
      "execution_count": 0,
      "outputs": [
        {
          "output_type": "display_data",
          "data": {
            "image/png": "[encoded data removed]",
            "text/plain": [
              "<Figure size 504x432 with 1 Axes>"
            ]
          },
          "metadata": {
            "tags": []
          }
        }
      ]
    },
    {
      "cell_type": "code",
      "metadata": {
        "id": "PWbEUqvUGq5Z",
        "colab_type": "code",
        "outputId": "30f79510-5255-4927-bff4-2ab03040fd8d",
        "colab": {
          "base_uri": "https://localhost:8080/",
          "height": 238
        }
      },
      "source": [
        "df3.groupby(['mm'])['Total Expenditure'].sum().sort_values(ascending = False)"
      ],
      "execution_count": 0,
      "outputs": [
        {
          "output_type": "execute_result",
          "data": {
            "text/plain": [
              "mm\n",
              "9     952838.382\n",
              "10    762832.590\n",
              "5     678594.560\n",
              "6     661213.690\n",
              "8     645343.900\n",
              "7     600091.011\n",
              "3     595500.760\n",
              "12    572713.890\n",
              "1     569445.040\n",
              "4     469200.361\n",
              "2     447137.350\n",
              "Name: Total Expenditure, dtype: float64"
            ]
          },
          "metadata": {
            "tags": []
          },
          "execution_count": 65
        }
      ]
    },
    {
      "cell_type": "markdown",
      "metadata": {
        "id": "voqloJymmDij",
        "colab_type": "text"
      },
      "source": [
        "ii) The most popular day in the most popular month."
      ]
    },
    {
      "cell_type": "code",
      "metadata": {
        "id": "oD7TgvPZK3dp",
        "colab_type": "code",
        "colab": {}
      },
      "source": [
        "#creating a  dataframe of the 11th month only.\n",
        "df10=df3[df3.mm==11]"
      ],
      "execution_count": 0,
      "outputs": []
    },
    {
      "cell_type": "code",
      "metadata": {
        "id": "dsuZ3sAxl1oj",
        "colab_type": "code",
        "outputId": "184669a3-25a4-4ce7-d1d1-c9c2979db04d",
        "colab": {
          "base_uri": "https://localhost:8080/",
          "height": 34
        }
      },
      "source": [
        "#finding the most popular day.\n",
        "df10.groupby(['dd'])['Total Expenditure'].sum().sort_values(ascending=False)"
      ],
      "execution_count": 0,
      "outputs": [
        {
          "output_type": "execute_result",
          "data": {
            "text/plain": [
              "Series([], Name: Total Expenditure, dtype: float64)"
            ]
          },
          "metadata": {
            "tags": []
          },
          "execution_count": 42
        }
      ]
    },
    {
      "cell_type": "markdown",
      "metadata": {
        "id": "b_LHhyO6odnr",
        "colab_type": "text"
      },
      "source": [
        "iii) the most popular hour in the most popular day of the most popular month."
      ]
    },
    {
      "cell_type": "code",
      "metadata": {
        "id": "euM31e1vJsOj",
        "colab_type": "code",
        "colab": {}
      },
      "source": [
        "# creating a dataframe where the day is on 23rd\n",
        "df8= df10[df10.dd==23]"
      ],
      "execution_count": 0,
      "outputs": []
    },
    {
      "cell_type": "code",
      "metadata": {
        "id": "FmhTfCOvoNCE",
        "colab_type": "code",
        "outputId": "494d0984-4817-47ed-a949-158a91823ecf",
        "colab": {
          "base_uri": "https://localhost:8080/",
          "height": 34
        }
      },
      "source": [
        "#finding the most popular hour.\n",
        "df8.groupby(['h'])['Total Expenditure'].sum().sort_values(ascending=False)"
      ],
      "execution_count": 0,
      "outputs": [
        {
          "output_type": "execute_result",
          "data": {
            "text/plain": [
              "Series([], Name: Total Expenditure, dtype: float64)"
            ]
          },
          "metadata": {
            "tags": []
          },
          "execution_count": 29
        }
      ]
    },
    {
      "cell_type": "markdown",
      "metadata": {
        "id": "Olb55-1HXTvC",
        "colab_type": "text"
      },
      "source": [
        "2) Which product is most popularly bought in the United Kingdom, France and Germany?Which are the top three countries? Which item has brought in most returns? Overall and in the individual countries? Is the most popular product"
      ]
    },
    {
      "cell_type": "code",
      "metadata": {
        "id": "-q_KOfC8LAGJ",
        "colab_type": "code",
        "outputId": "224ed441-7241-493d-c7a9-20a997db4c57",
        "colab": {
          "base_uri": "https://localhost:8080/",
          "height": 421
        }
      },
      "source": [
        "df3.groupby(\"Country\")[\"StockCode\"].count().sort_values(ascending=False).head(3).plot(kind='bar')"
      ],
      "execution_count": 0,
      "outputs": [
        {
          "output_type": "execute_result",
          "data": {
            "text/plain": [
              "<matplotlib.axes._subplots.AxesSubplot at 0x7f60da4426a0>"
            ]
          },
          "metadata": {
            "tags": []
          },
          "execution_count": 68
        },
        {
          "output_type": "display_data",
          "data": {
            "image/png": "[encoded data removed]",
            "text/plain": [
              "<Figure size 432x288 with 1 Axes>"
            ]
          },
          "metadata": {
            "tags": []
          }
        }
      ]
    },
    {
      "cell_type": "code",
      "metadata": {
        "id": "oJC6OrW9Ywi8",
        "colab_type": "code",
        "outputId": "60fe5940-acd2-4b5d-8f05-c84a62bbd122",
        "colab": {
          "base_uri": "https://localhost:8080/",
          "height": 238
        }
      },
      "source": [
        "#Finding out the number of products sold\n",
        "df3.groupby('Description')['StockCode'].count().sort_values(ascending=False)"
      ],
      "execution_count": 0,
      "outputs": [
        {
          "output_type": "execute_result",
          "data": {
            "text/plain": [
              "Description\n",
              "WHITE HANGING HEART T-LIGHT HOLDER    1686\n",
              "REGENCY CAKESTAND 3 TIER              1464\n",
              "JUMBO BAG RED RETROSPOT               1323\n",
              "PARTY BUNTING                         1287\n",
              "LUNCH BAG RED RETROSPOT               1121\n",
              "                                      ... \n",
              "GARLAND, MAGIC GARDEN 1.8M               1\n",
              "PINK POLKADOT KIDS BAG                   1\n",
              "DOLLY CABINET 3 DRAWERS                  1\n",
              "DROP DIAMANTE EARRINGS GREEN             1\n",
              "GLASS BEAD HOOP NECKLACE BLACK           1\n",
              "Name: StockCode, Length: 3790, dtype: int64"
            ]
          },
          "metadata": {
            "tags": []
          },
          "execution_count": 30
        }
      ]
    },
    {
      "cell_type": "code",
      "metadata": {
        "id": "tadpTvZcZFRN",
        "colab_type": "code",
        "outputId": "3eda63ed-21db-4680-d12b-c3f18f3b5888",
        "colab": {
          "base_uri": "https://localhost:8080/",
          "height": 680
        }
      },
      "source": [
        "#Finding out the number of goods sold to each country \n",
        "df3.groupby('Country')['StockCode'].count().sort_values(ascending=False)"
      ],
      "execution_count": 0,
      "outputs": [
        {
          "output_type": "execute_result",
          "data": {
            "text/plain": [
              "Country\n",
              "United Kingdom          265986\n",
              "Germany                   7473\n",
              "France                    6365\n",
              "EIRE                      5835\n",
              "Netherlands               2024\n",
              "Spain                     1954\n",
              "Belgium                   1588\n",
              "Switzerland               1492\n",
              "Portugal                  1216\n",
              "Australia                 1142\n",
              "Norway                     715\n",
              "Channel Islands            670\n",
              "Finland                    553\n",
              "Cyprus                     514\n",
              "Italy                      494\n",
              "Sweden                     358\n",
              "Austria                    321\n",
              "Denmark                    286\n",
              "Japan                      273\n",
              "Poland                     259\n",
              "Israel                     248\n",
              "Unspecified                244\n",
              "Singapore                  222\n",
              "Canada                     151\n",
              "USA                        147\n",
              "Iceland                    124\n",
              "Greece                     109\n",
              "Malta                      100\n",
              "United Arab Emirates        68\n",
              "European Community          60\n",
              "RSA                         58\n",
              "Lebanon                     45\n",
              "Lithuania                   35\n",
              "Brazil                      32\n",
              "Czech Republic              25\n",
              "Bahrain                     17\n",
              "Saudi Arabia                 9\n",
              "Name: StockCode, dtype: int64"
            ]
          },
          "metadata": {
            "tags": []
          },
          "execution_count": 31
        }
      ]
    },
    {
      "cell_type": "code",
      "metadata": {
        "id": "GPXC8ZyXZYjo",
        "colab_type": "code",
        "colab": {}
      },
      "source": [
        "#Creating the new dataframe with countries as the United Kingdom\n",
        "df5=df3[df3.Country=='United Kingdom']"
      ],
      "execution_count": 0,
      "outputs": []
    },
    {
      "cell_type": "code",
      "metadata": {
        "id": "4hCWxN9JZcme",
        "colab_type": "code",
        "outputId": "f0155872-4de9-42c2-8d3f-0507592b905a",
        "colab": {
          "base_uri": "https://localhost:8080/",
          "height": 238
        }
      },
      "source": [
        "#Counting the different products sold in the United Kingdom\n",
        "df5.groupby('Description')['StockCode'].count().sort_values(ascending=False)"
      ],
      "execution_count": 0,
      "outputs": [
        {
          "output_type": "execute_result",
          "data": {
            "text/plain": [
              "Description\n",
              "WHITE HANGING HEART T-LIGHT HOLDER    1622\n",
              "REGENCY CAKESTAND 3 TIER              1217\n",
              "PARTY BUNTING                         1206\n",
              "JUMBO BAG RED RETROSPOT               1191\n",
              "ASSORTED COLOUR BIRD ORNAMENT         1049\n",
              "                                      ... \n",
              "PINK FLUFFY CHRISTMAS DECORATION         1\n",
              "DOORKNOB CRACKED GLAZE PINK              1\n",
              "DOORKNOB CRACKED GLAZE GREEN             1\n",
              "DOORKNOB CRACKED GLAZE BLUE              1\n",
              "PURPLE GLASS TASSLE BAG CHARM            1\n",
              "Name: StockCode, Length: 3753, dtype: int64"
            ]
          },
          "metadata": {
            "tags": []
          },
          "execution_count": 33
        }
      ]
    },
    {
      "cell_type": "code",
      "metadata": {
        "id": "UP2_YtPsZp7b",
        "colab_type": "code",
        "colab": {}
      },
      "source": [
        "#Creating a new dataframe with the country as France\n",
        "df6=df3[df3.Country=='France']"
      ],
      "execution_count": 0,
      "outputs": []
    },
    {
      "cell_type": "code",
      "metadata": {
        "id": "ywrdQavbZyMn",
        "colab_type": "code",
        "outputId": "77eb57a4-e13e-4075-cd66-728068a3076d",
        "colab": {
          "base_uri": "https://localhost:8080/",
          "height": 238
        }
      },
      "source": [
        "#Counting the different products sold in France\n",
        "df6.groupby('Description')['StockCode'].count().sort_values(ascending=False)"
      ],
      "execution_count": 0,
      "outputs": [
        {
          "output_type": "execute_result",
          "data": {
            "text/plain": [
              "Description\n",
              "POSTAGE                             230\n",
              "PLASTERS IN TIN WOODLAND ANIMALS     55\n",
              "PLASTERS IN TIN CIRCUS PARADE        52\n",
              "RED TOADSTOOL LED NIGHT LIGHT        51\n",
              "LUNCH BAG RED RETROSPOT              50\n",
              "                                   ... \n",
              "RECIPE BOX RETROSPOT                  1\n",
              "RECIPE BOX PANTRY YELLOW DESIGN       1\n",
              "RAIN PONCHO RETROSPOT                 1\n",
              "PURPLE PAPER PARASOL                  1\n",
              "S/6 SEW ON CROCHET FLOWERS            1\n",
              "Name: StockCode, Length: 1322, dtype: int64"
            ]
          },
          "metadata": {
            "tags": []
          },
          "execution_count": 35
        }
      ]
    },
    {
      "cell_type": "code",
      "metadata": {
        "id": "OKlAm7ZaZ8gZ",
        "colab_type": "code",
        "colab": {}
      },
      "source": [
        "#Creating a new dataframe with the country as Germany\n",
        "df7=df3[df3.Country=='Germany']"
      ],
      "execution_count": 0,
      "outputs": []
    },
    {
      "cell_type": "code",
      "metadata": {
        "id": "NMWa17fcaDB7",
        "colab_type": "code",
        "outputId": "8eedca9a-bc72-4e77-c3fe-8889b3ce5a51",
        "colab": {
          "base_uri": "https://localhost:8080/",
          "height": 238
        }
      },
      "source": [
        "#Counting the different products sold in Germany\n",
        "df7.groupby('Description')['StockCode'].count().sort_values(ascending=False)"
      ],
      "execution_count": 0,
      "outputs": [
        {
          "output_type": "execute_result",
          "data": {
            "text/plain": [
              "Description\n",
              "POSTAGE                                293\n",
              "ROUND SNACK BOXES SET OF4 WOODLAND      97\n",
              "ROUND SNACK BOXES SET OF 4 FRUITS       64\n",
              "REGENCY CAKESTAND 3 TIER                53\n",
              "PLASTERS IN TIN WOODLAND ANIMALS        51\n",
              "                                      ... \n",
              "PINK POLKADOT GARDEN PARASOL             1\n",
              "EMBROIDERED RIBBON REEL RUBY             1\n",
              "EMBROIDERED RIBBON REEL ROSIE            1\n",
              "EMBROIDERED RIBBON REEL RACHEL           1\n",
              "MILK PAN BLUE POLKADOT                   1\n",
              "Name: StockCode, Length: 1565, dtype: int64"
            ]
          },
          "metadata": {
            "tags": []
          },
          "execution_count": 43
        }
      ]
    },
    {
      "cell_type": "code",
      "metadata": {
        "id": "puY-dkfUaYtV",
        "colab_type": "code",
        "outputId": "015209c7-7687-4ae7-bf1f-63ee60df8b5a",
        "colab": {
          "base_uri": "https://localhost:8080/",
          "height": 238
        }
      },
      "source": [
        "#Getting the product that had the highest returns\n",
        "df3.groupby('Description')['Total Expenditure'].mean().sort_values(ascending=False)"
      ],
      "execution_count": 0,
      "outputs": [
        {
          "output_type": "execute_result",
          "data": {
            "text/plain": [
              "Description\n",
              "PICNIC BASKET WICKER 60 PIECES      19809.75000\n",
              "TEA TIME TEA TOWELS                  3022.50000\n",
              "MISELTOE HEART WREATH CREAM           996.00000\n",
              "SET/5 RED SPOTTY LID GLASS BOWLS      734.40000\n",
              "HALL CABINET WITH 3 DRAWERS           625.88250\n",
              "                                       ...     \n",
              "ASSTD RASTA KEY-CHAINS                  0.42000\n",
              "SILICON CUBE 25W, BLUE                  0.42000\n",
              "HEN HOUSE WITH CHICK STANDING           0.42000\n",
              "HEN HOUSE W CHICK IN NEST               0.42000\n",
              "PADS TO MATCH ALL CUSHIONS              0.00075\n",
              "Name: Total Expenditure, Length: 3790, dtype: float64"
            ]
          },
          "metadata": {
            "tags": []
          },
          "execution_count": 44
        }
      ]
    },
    {
      "cell_type": "code",
      "metadata": {
        "id": "ELEOuAtKa7Bg",
        "colab_type": "code",
        "outputId": "cfa82f00-bd9f-4c3b-8fb7-974fd89a8905",
        "colab": {
          "base_uri": "https://localhost:8080/",
          "height": 238
        }
      },
      "source": [
        "#Getting the product with the highest returns in the United Kingdom\n",
        "df5=df3[df3.Country=='United Kingdom']\n",
        "df5.groupby('Description')['Total Expenditure'].mean().sort_values(ascending=False)"
      ],
      "execution_count": 0,
      "outputs": [
        {
          "output_type": "execute_result",
          "data": {
            "text/plain": [
              "Description\n",
              "PICNIC BASKET WICKER 60 PIECES    19809.750000\n",
              "TEA TIME TEA TOWELS                3022.500000\n",
              "HALL CABINET WITH 3 DRAWERS         625.882500\n",
              "POTTING SHED CANDLE CITRONELLA      625.410000\n",
              "MEDIUM CERAMIC TOP STORAGE JAR      597.224887\n",
              "                                      ...     \n",
              "ASSTD RASTA KEY-CHAINS                0.420000\n",
              "SILICON CUBE 25W, BLUE                0.420000\n",
              "HEN HOUSE WITH CHICK STANDING         0.420000\n",
              "HEN HOUSE W CHICK IN NEST             0.420000\n",
              "PADS TO MATCH ALL CUSHIONS            0.000750\n",
              "Name: Total Expenditure, Length: 3753, dtype: float64"
            ]
          },
          "metadata": {
            "tags": []
          },
          "execution_count": 45
        }
      ]
    },
    {
      "cell_type": "code",
      "metadata": {
        "id": "9r211264bF-9",
        "colab_type": "code",
        "outputId": "b28e3ccb-4334-4305-c1e3-a19806ef3e53",
        "colab": {
          "base_uri": "https://localhost:8080/",
          "height": 238
        }
      },
      "source": [
        "#Getting the product with the highest returns in France\n",
        "df6=df3[df3.Country=='France']\n",
        "df6.groupby('Description')['Total Expenditure'].mean().sort_values(ascending=False)"
      ],
      "execution_count": 0,
      "outputs": [
        {
          "output_type": "execute_result",
          "data": {
            "text/plain": [
              "Description\n",
              "MINI WOODEN HAPPY BIRTHDAY GARLAND    835.20\n",
              "Manual                                583.15\n",
              "PINK HAPPY BIRTHDAY BUNTING           232.50\n",
              "JUMBO BAG STRAWBERRY                  188.75\n",
              "PINK PAINTED KASHMIRI CHAIR           171.80\n",
              "                                       ...  \n",
              "KEY FOB , SHED                          0.65\n",
              "KEY FOB , BACK DOOR                     0.65\n",
              "MIXED NUTS LIGHT GREEN BOWL             0.42\n",
              "TRAVEL CARD WALLET RETRO PETALS         0.42\n",
              "TRAVEL CARD WALLET VINTAGE ROSE         0.42\n",
              "Name: Total Expenditure, Length: 1322, dtype: float64"
            ]
          },
          "metadata": {
            "tags": []
          },
          "execution_count": 46
        }
      ]
    },
    {
      "cell_type": "code",
      "metadata": {
        "id": "m1nctcS5bbM6",
        "colab_type": "code",
        "outputId": "89396c6b-25db-49a4-d15d-faf561f9705a",
        "colab": {
          "base_uri": "https://localhost:8080/",
          "height": 238
        }
      },
      "source": [
        "#Getting the product with the most sales in Germany\n",
        "df7=df3[df3.Country=='Germany']\n",
        "df7.groupby('Description')['Total Expenditure'].mean().sort_values(ascending=False)"
      ],
      "execution_count": 0,
      "outputs": [
        {
          "output_type": "execute_result",
          "data": {
            "text/plain": [
              "Description\n",
              "STOOL HOME SWEET HOME               318.2500\n",
              "Manual                              310.4825\n",
              "SET OF 16 VINTAGE BLACK CUTLERY     262.8000\n",
              "COLOURING PENCILS BROWN TUBE        212.0000\n",
              "BAKING MOULD ROSE MILK CHOCOLATE    198.0000\n",
              "                                      ...   \n",
              "FOLKART ZINC HEART CHRISTMAS DEC      0.8500\n",
              "SANDALWOOD FAN                        0.8500\n",
              "INFLATABLE POLITICAL GLOBE            0.8500\n",
              "CHERUB HEART DECORATION GOLD          0.8300\n",
              "ROUND CAKE TIN VINTAGE GREEN          0.0000\n",
              "Name: Total Expenditure, Length: 1565, dtype: float64"
            ]
          },
          "metadata": {
            "tags": []
          },
          "execution_count": 47
        }
      ]
    },
    {
      "cell_type": "markdown",
      "metadata": {
        "id": "h1bZTITKX1g8",
        "colab_type": "text"
      },
      "source": [
        "3) Which items have brought in the least returns? Overall and in the individual countries?               Does the least popular product bring in the least returns?"
      ]
    },
    {
      "cell_type": "markdown",
      "metadata": {
        "id": "5YmSRBF5j8_K",
        "colab_type": "text"
      },
      "source": [
        "i)Getting products with the least returns overall"
      ]
    },
    {
      "cell_type": "code",
      "metadata": {
        "id": "u3SKzsMvcfsd",
        "colab_type": "code",
        "outputId": "d2b76e7e-f62a-4616-a918-3980dc0beffd",
        "colab": {
          "base_uri": "https://localhost:8080/",
          "height": 238
        }
      },
      "source": [
        "#Getting the products with the least returns overall\n",
        "df3.groupby('Description')['Total Expenditure'].mean().sort_values(ascending=True)"
      ],
      "execution_count": 0,
      "outputs": [
        {
          "output_type": "execute_result",
          "data": {
            "text/plain": [
              "Description\n",
              "PADS TO MATCH ALL CUSHIONS              0.00075\n",
              "HEN HOUSE W CHICK IN NEST               0.42000\n",
              "HEN HOUSE WITH CHICK STANDING           0.42000\n",
              "SILICON CUBE 25W, BLUE                  0.42000\n",
              "ASSTD RASTA KEY-CHAINS                  0.42000\n",
              "                                       ...     \n",
              "HALL CABINET WITH 3 DRAWERS           625.88250\n",
              "SET/5 RED SPOTTY LID GLASS BOWLS      734.40000\n",
              "MISELTOE HEART WREATH CREAM           996.00000\n",
              "TEA TIME TEA TOWELS                  3022.50000\n",
              "PICNIC BASKET WICKER 60 PIECES      19809.75000\n",
              "Name: Total Expenditure, Length: 3790, dtype: float64"
            ]
          },
          "metadata": {
            "tags": []
          },
          "execution_count": 48
        }
      ]
    },
    {
      "cell_type": "code",
      "metadata": {
        "id": "2RGOA6bLcvoQ",
        "colab_type": "code",
        "outputId": "1733ae53-c783-4cd4-b3af-a50a193ca8aa",
        "colab": {
          "base_uri": "https://localhost:8080/",
          "height": 238
        }
      },
      "source": [
        "#Getting the product with the least returns in the United Kingdom\n",
        "df5.groupby('Description')['Total Expenditure'].mean().sort_values(ascending=True)"
      ],
      "execution_count": 0,
      "outputs": [
        {
          "output_type": "execute_result",
          "data": {
            "text/plain": [
              "Description\n",
              "PADS TO MATCH ALL CUSHIONS            0.000750\n",
              "HEN HOUSE W CHICK IN NEST             0.420000\n",
              "HEN HOUSE WITH CHICK STANDING         0.420000\n",
              "SILICON CUBE 25W, BLUE                0.420000\n",
              "ASSTD RASTA KEY-CHAINS                0.420000\n",
              "                                      ...     \n",
              "MEDIUM CERAMIC TOP STORAGE JAR      597.224887\n",
              "POTTING SHED CANDLE CITRONELLA      625.410000\n",
              "HALL CABINET WITH 3 DRAWERS         625.882500\n",
              "TEA TIME TEA TOWELS                3022.500000\n",
              "PICNIC BASKET WICKER 60 PIECES    19809.750000\n",
              "Name: Total Expenditure, Length: 3753, dtype: float64"
            ]
          },
          "metadata": {
            "tags": []
          },
          "execution_count": 49
        }
      ]
    },
    {
      "cell_type": "code",
      "metadata": {
        "id": "Kj4gqUIdc3ww",
        "colab_type": "code",
        "outputId": "2be6cb59-7428-46c7-f08b-acf9300379a0",
        "colab": {
          "base_uri": "https://localhost:8080/",
          "height": 238
        }
      },
      "source": [
        "#Getting the product with the least returns in France\n",
        "df6.groupby('Description')['Total Expenditure'].mean().sort_values(ascending=True)"
      ],
      "execution_count": 0,
      "outputs": [
        {
          "output_type": "execute_result",
          "data": {
            "text/plain": [
              "Description\n",
              "TRAVEL CARD WALLET VINTAGE ROSE         0.42\n",
              "TRAVEL CARD WALLET RETRO PETALS         0.42\n",
              "MIXED NUTS LIGHT GREEN BOWL             0.42\n",
              "KEY FOB , BACK DOOR                     0.65\n",
              "KEY FOB , SHED                          0.65\n",
              "                                       ...  \n",
              "PINK PAINTED KASHMIRI CHAIR           171.80\n",
              "JUMBO BAG STRAWBERRY                  188.75\n",
              "PINK HAPPY BIRTHDAY BUNTING           232.50\n",
              "Manual                                583.15\n",
              "MINI WOODEN HAPPY BIRTHDAY GARLAND    835.20\n",
              "Name: Total Expenditure, Length: 1322, dtype: float64"
            ]
          },
          "metadata": {
            "tags": []
          },
          "execution_count": 50
        }
      ]
    },
    {
      "cell_type": "code",
      "metadata": {
        "id": "qCD5d273c-fb",
        "colab_type": "code",
        "outputId": "01d63adc-4509-45ea-d1c4-cd28fd4e721a",
        "colab": {
          "base_uri": "https://localhost:8080/",
          "height": 238
        }
      },
      "source": [
        "#Getting the product with the least returns in Germany\n",
        "df7.groupby('Description')['Total Expenditure'].mean().sort_values(ascending=True)"
      ],
      "execution_count": 0,
      "outputs": [
        {
          "output_type": "execute_result",
          "data": {
            "text/plain": [
              "Description\n",
              "ROUND CAKE TIN VINTAGE GREEN          0.0000\n",
              "CHERUB HEART DECORATION GOLD          0.8300\n",
              "INFLATABLE POLITICAL GLOBE            0.8500\n",
              "SANDALWOOD FAN                        0.8500\n",
              "FOLKART ZINC HEART CHRISTMAS DEC      0.8500\n",
              "                                      ...   \n",
              "BAKING MOULD ROSE MILK CHOCOLATE    198.0000\n",
              "COLOURING PENCILS BROWN TUBE        212.0000\n",
              "SET OF 16 VINTAGE BLACK CUTLERY     262.8000\n",
              "Manual                              310.4825\n",
              "STOOL HOME SWEET HOME               318.2500\n",
              "Name: Total Expenditure, Length: 1565, dtype: float64"
            ]
          },
          "metadata": {
            "tags": []
          },
          "execution_count": 51
        }
      ]
    },
    {
      "cell_type": "code",
      "metadata": {
        "id": "pQA5BLFbdG-e",
        "colab_type": "code",
        "outputId": "abbc3da1-b7ab-4bb8-a964-cc2df155d81b",
        "colab": {
          "base_uri": "https://localhost:8080/",
          "height": 238
        }
      },
      "source": [
        "#Counting the least sold products overall\n",
        "df3.groupby('Description')['Total Expenditure'].count().sort_values(ascending=True)"
      ],
      "execution_count": 0,
      "outputs": [
        {
          "output_type": "execute_result",
          "data": {
            "text/plain": [
              "Description\n",
              "GLASS BEAD HOOP NECKLACE BLACK           1\n",
              "DROP DIAMANTE EARRINGS GREEN             1\n",
              "DOLLY CABINET 3 DRAWERS                  1\n",
              "PINK POLKADOT KIDS BAG                   1\n",
              "GARLAND, MAGIC GARDEN 1.8M               1\n",
              "                                      ... \n",
              "LUNCH BAG RED RETROSPOT               1121\n",
              "PARTY BUNTING                         1287\n",
              "JUMBO BAG RED RETROSPOT               1323\n",
              "REGENCY CAKESTAND 3 TIER              1464\n",
              "WHITE HANGING HEART T-LIGHT HOLDER    1686\n",
              "Name: Total Expenditure, Length: 3790, dtype: int64"
            ]
          },
          "metadata": {
            "tags": []
          },
          "execution_count": 52
        }
      ]
    },
    {
      "cell_type": "code",
      "metadata": {
        "id": "rvtO-ZCBdQR_",
        "colab_type": "code",
        "outputId": "d0ee46f1-e768-4783-a277-7598c4e5b157",
        "colab": {
          "base_uri": "https://localhost:8080/",
          "height": 238
        }
      },
      "source": [
        "#Counting the least sold products in the United Kingdom\n",
        "df5.groupby('Description')['Total Expenditure'].count().sort_values(ascending=True)"
      ],
      "execution_count": 0,
      "outputs": [
        {
          "output_type": "execute_result",
          "data": {
            "text/plain": [
              "Description\n",
              "PURPLE GLASS TASSLE BAG CHARM            1\n",
              "DOORKNOB CRACKED GLAZE BLUE              1\n",
              "DOORKNOB CRACKED GLAZE GREEN             1\n",
              "DOORKNOB CRACKED GLAZE PINK              1\n",
              "PINK FLUFFY CHRISTMAS DECORATION         1\n",
              "                                      ... \n",
              "ASSORTED COLOUR BIRD ORNAMENT         1049\n",
              "JUMBO BAG RED RETROSPOT               1191\n",
              "PARTY BUNTING                         1206\n",
              "REGENCY CAKESTAND 3 TIER              1217\n",
              "WHITE HANGING HEART T-LIGHT HOLDER    1622\n",
              "Name: Total Expenditure, Length: 3753, dtype: int64"
            ]
          },
          "metadata": {
            "tags": []
          },
          "execution_count": 53
        }
      ]
    },
    {
      "cell_type": "code",
      "metadata": {
        "id": "aCpCSC9MdYv1",
        "colab_type": "code",
        "outputId": "55229f73-8e5a-45d1-b67a-dc873abbc734",
        "colab": {
          "base_uri": "https://localhost:8080/",
          "height": 238
        }
      },
      "source": [
        "#Counting the least sold products in the France\n",
        "df6.groupby('Description')['Total Expenditure'].count().sort_values(ascending=True)"
      ],
      "execution_count": 0,
      "outputs": [
        {
          "output_type": "execute_result",
          "data": {
            "text/plain": [
              "Description\n",
              "S/6 SEW ON CROCHET FLOWERS            1\n",
              "PURPLE PAPER PARASOL                  1\n",
              "RAIN PONCHO RETROSPOT                 1\n",
              "RECIPE BOX PANTRY YELLOW DESIGN       1\n",
              "RECIPE BOX RETROSPOT                  1\n",
              "                                   ... \n",
              "LUNCH BAG RED RETROSPOT              50\n",
              "RED TOADSTOOL LED NIGHT LIGHT        51\n",
              "PLASTERS IN TIN CIRCUS PARADE        52\n",
              "PLASTERS IN TIN WOODLAND ANIMALS     55\n",
              "POSTAGE                             230\n",
              "Name: Total Expenditure, Length: 1322, dtype: int64"
            ]
          },
          "metadata": {
            "tags": []
          },
          "execution_count": 54
        }
      ]
    },
    {
      "cell_type": "code",
      "metadata": {
        "id": "l2oJJF8mdhQC",
        "colab_type": "code",
        "outputId": "a7218224-67b1-4708-ea0d-b78b7d8ae5ed",
        "colab": {
          "base_uri": "https://localhost:8080/",
          "height": 238
        }
      },
      "source": [
        "#Counting the least sold products in Germany\n",
        "df7.groupby('Description')['Total Expenditure'].count().sort_values(ascending=True)"
      ],
      "execution_count": 0,
      "outputs": [
        {
          "output_type": "execute_result",
          "data": {
            "text/plain": [
              "Description\n",
              "MILK PAN BLUE POLKADOT                   1\n",
              "EMBROIDERED RIBBON REEL RACHEL           1\n",
              "EMBROIDERED RIBBON REEL ROSIE            1\n",
              "EMBROIDERED RIBBON REEL RUBY             1\n",
              "PINK POLKADOT GARDEN PARASOL             1\n",
              "                                      ... \n",
              "PLASTERS IN TIN WOODLAND ANIMALS        51\n",
              "REGENCY CAKESTAND 3 TIER                53\n",
              "ROUND SNACK BOXES SET OF 4 FRUITS       64\n",
              "ROUND SNACK BOXES SET OF4 WOODLAND      97\n",
              "POSTAGE                                293\n",
              "Name: Total Expenditure, Length: 1565, dtype: int64"
            ]
          },
          "metadata": {
            "tags": []
          },
          "execution_count": 55
        }
      ]
    },
    {
      "cell_type": "markdown",
      "metadata": {
        "id": "HOA9nUdWXMcw",
        "colab_type": "text"
      },
      "source": [
        "4) Which products are more likely to have cancelling issues? The country with the highest cancelling issues,the popular product cancelled least and the highest"
      ]
    },
    {
      "cell_type": "code",
      "metadata": {
        "id": "80ZyMsh3mTKd",
        "colab_type": "code",
        "outputId": "21815da6-96a9-4b0e-e3b8-9f0ba0ddd443",
        "colab": {
          "base_uri": "https://localhost:8080/",
          "height": 139
        }
      },
      "source": [
        "#creating a new column cost that is the unitprice*quantity\n",
        "df4['cost']=df4.Quantity * df4.UnitPrice"
      ],
      "execution_count": 0,
      "outputs": [
        {
          "output_type": "stream",
          "text": [
            "/usr/local/lib/python3.6/dist-packages/ipykernel_launcher.py:2: SettingWithCopyWarning: \n",
            "A value is trying to be set on a copy of a slice from a DataFrame.\n",
            "Try using .loc[row_indexer,col_indexer] = value instead\n",
            "\n",
            "See the caveats in the documentation: https://pandas.pydata.org/pandas-docs/stable/user_guide/indexing.html#returning-a-view-versus-a-copy\n",
            "  \n"
          ],
          "name": "stderr"
        }
      ]
    },
    {
      "cell_type": "code",
      "metadata": {
        "id": "CoZ4V6ALkoi2",
        "colab_type": "code",
        "outputId": "274e7382-e2d3-4b89-e39d-5b5a6974ecf8",
        "colab": {
          "base_uri": "https://localhost:8080/",
          "height": 527
        }
      },
      "source": [
        "# i) Country with the highest cancelling issue\n",
        "df4.groupby(['Country'])['cost'].sum().sort_values(ascending=True )"
      ],
      "execution_count": 0,
      "outputs": [
        {
          "output_type": "execute_result",
          "data": {
            "text/plain": [
              "Country\n",
              "United Kingdom       -330777.92\n",
              "EIRE                  -14807.65\n",
              "Singapore             -12158.90\n",
              "Spain                  -6612.66\n",
              "Germany                -4785.41\n",
              "Portugal               -4373.84\n",
              "France                 -2699.80\n",
              "Japan                  -1958.82\n",
              "USA                    -1579.51\n",
              "Sweden                 -1434.90\n",
              "Australia              -1007.31\n",
              "Norway                 -1001.98\n",
              "Netherlands             -766.80\n",
              "Switzerland             -702.55\n",
              "Cyprus                  -552.84\n",
              "Channel Islands         -340.30\n",
              "Italy                   -234.85\n",
              "Israel                  -227.44\n",
              "Denmark                 -187.20\n",
              "Belgium                 -156.73\n",
              "Poland                  -102.15\n",
              "Finland                  -97.26\n",
              "Czech Republic           -57.51\n",
              "Greece                   -50.00\n",
              "Austria                  -44.36\n",
              "Malta                    -28.50\n",
              "Saudi Arabia             -14.75\n",
              "European Community        -8.50\n",
              "Name: cost, dtype: float64"
            ]
          },
          "metadata": {
            "tags": []
          },
          "execution_count": 57
        }
      ]
    },
    {
      "cell_type": "code",
      "metadata": {
        "id": "G2-whwNPm8Ys",
        "colab_type": "code",
        "outputId": "6d1e1171-0135-4fc4-c0e6-fe38d77fb680",
        "colab": {
          "base_uri": "https://localhost:8080/",
          "height": 238
        }
      },
      "source": [
        "# ii) The most cancelled product\n",
        "df4.groupby(['Description'])['Quantity'].sum().sort_values(ascending=True)"
      ],
      "execution_count": 0,
      "outputs": [
        {
          "output_type": "execute_result",
          "data": {
            "text/plain": [
              "Description\n",
              "MEDIUM CERAMIC TOP STORAGE JAR        -74493.0\n",
              "ROTATING SILVER ANGELS T-LIGHT HLDR    -9366.0\n",
              "Manual                                 -3733.0\n",
              "FAIRY CAKE FLANNEL ASSORTED COLOUR     -3114.0\n",
              "PINK BLUE FELT CRAFT TRINKET BOX       -2617.0\n",
              "                                        ...   \n",
              "MINI  ZINC GARDEN DECORATIONS             -1.0\n",
              "MILK PAN PINK POLKADOT                    -1.0\n",
              "MEDINA STAMPED METAL STOOL                -1.0\n",
              "FUNKY WASHING UP GLOVES ASSORTED          -1.0\n",
              "LOVE HEART SOCK HANGER                    -1.0\n",
              "Name: Quantity, Length: 1764, dtype: float64"
            ]
          },
          "metadata": {
            "tags": []
          },
          "execution_count": 58
        }
      ]
    },
    {
      "cell_type": "code",
      "metadata": {
        "id": "xjvHliCgooSg",
        "colab_type": "code",
        "outputId": "ecabf117-74db-4c22-8045-1509abd3b402",
        "colab": {
          "base_uri": "https://localhost:8080/",
          "height": 238
        }
      },
      "source": [
        "# iii) The least cancelled product\n",
        "df4.groupby(['Description'])['Quantity'].sum().sort_values(ascending=False)"
      ],
      "execution_count": 0,
      "outputs": [
        {
          "output_type": "execute_result",
          "data": {
            "text/plain": [
              "Description\n",
              "LOVE HEART SOCK HANGER                    -1.0\n",
              "FUNKY WASHING UP GLOVES ASSORTED          -1.0\n",
              "MEDINA STAMPED METAL STOOL                -1.0\n",
              "MILK PAN PINK POLKADOT                    -1.0\n",
              "MINI  ZINC GARDEN DECORATIONS             -1.0\n",
              "                                        ...   \n",
              "PINK BLUE FELT CRAFT TRINKET BOX       -2617.0\n",
              "FAIRY CAKE FLANNEL ASSORTED COLOUR     -3114.0\n",
              "Manual                                 -3733.0\n",
              "ROTATING SILVER ANGELS T-LIGHT HLDR    -9366.0\n",
              "MEDIUM CERAMIC TOP STORAGE JAR        -74493.0\n",
              "Name: Quantity, Length: 1764, dtype: float64"
            ]
          },
          "metadata": {
            "tags": []
          },
          "execution_count": 59
        }
      ]
    },
    {
      "cell_type": "markdown",
      "metadata": {
        "id": "FbwWVRZpX-Tv",
        "colab_type": "text"
      },
      "source": [
        "5) Which country do we have the most customers from? Is it the country bringing the most revenue? ,What is the average expenditure of a consumer in the the given countries."
      ]
    },
    {
      "cell_type": "code",
      "metadata": {
        "id": "dMVVy5vOpS7n",
        "colab_type": "code",
        "outputId": "882aeeba-27ae-4955-c597-8d31ba6d4dd9",
        "colab": {
          "base_uri": "https://localhost:8080/",
          "height": 139
        }
      },
      "source": [
        "#changing country to string datatype to allow for grouping\n",
        "df3[\"Country\"] = df3[\"Country\"].astype(\"str\")"
      ],
      "execution_count": 0,
      "outputs": [
        {
          "output_type": "stream",
          "text": [
            "/usr/local/lib/python3.6/dist-packages/ipykernel_launcher.py:2: SettingWithCopyWarning: \n",
            "A value is trying to be set on a copy of a slice from a DataFrame.\n",
            "Try using .loc[row_indexer,col_indexer] = value instead\n",
            "\n",
            "See the caveats in the documentation: https://pandas.pydata.org/pandas-docs/stable/user_guide/indexing.html#returning-a-view-versus-a-copy\n",
            "  \n"
          ],
          "name": "stderr"
        }
      ]
    },
    {
      "cell_type": "code",
      "metadata": {
        "id": "OO_nFwPFwXb4",
        "colab_type": "code",
        "outputId": "4d854127-16da-4551-fd6f-c22faf681dec",
        "colab": {
          "base_uri": "https://localhost:8080/",
          "height": 680
        }
      },
      "source": [
        "#the country with the most customers\n",
        "df3.groupby (['Country'])['CustomerID'].count().sort_values(ascending= False)"
      ],
      "execution_count": 0,
      "outputs": [
        {
          "output_type": "execute_result",
          "data": {
            "text/plain": [
              "Country\n",
              "United Kingdom          265986\n",
              "Germany                   7473\n",
              "France                    6365\n",
              "EIRE                      5835\n",
              "Netherlands               2024\n",
              "Spain                     1954\n",
              "Belgium                   1588\n",
              "Switzerland               1492\n",
              "Portugal                  1216\n",
              "Australia                 1142\n",
              "Norway                     715\n",
              "Channel Islands            670\n",
              "Finland                    553\n",
              "Cyprus                     514\n",
              "Italy                      494\n",
              "Sweden                     358\n",
              "Austria                    321\n",
              "Denmark                    286\n",
              "Japan                      273\n",
              "Poland                     259\n",
              "Israel                     248\n",
              "Unspecified                244\n",
              "Singapore                  222\n",
              "Canada                     151\n",
              "USA                        147\n",
              "Iceland                    124\n",
              "Greece                     109\n",
              "Malta                      100\n",
              "United Arab Emirates        68\n",
              "European Community          60\n",
              "RSA                         58\n",
              "Lebanon                     45\n",
              "Lithuania                   35\n",
              "Brazil                      32\n",
              "Czech Republic              25\n",
              "Bahrain                     17\n",
              "Saudi Arabia                 9\n",
              "Name: CustomerID, dtype: int64"
            ]
          },
          "metadata": {
            "tags": []
          },
          "execution_count": 61
        }
      ]
    },
    {
      "cell_type": "code",
      "metadata": {
        "id": "60q3sw8swAj6",
        "colab_type": "code",
        "outputId": "c7ce2d0a-ac9a-4127-e6e3-c5c3320e3114",
        "colab": {
          "base_uri": "https://localhost:8080/",
          "height": 680
        }
      },
      "source": [
        "#country bringing in the most revenue?\n",
        "df3['Total Expenditure'].groupby(df3['Country']).sum().sort_values(ascending=False)"
      ],
      "execution_count": 0,
      "outputs": [
        {
          "output_type": "execute_result",
          "data": {
            "text/plain": [
              "Country\n",
              "United Kingdom          5.630684e+06\n",
              "Netherlands             2.378491e+05\n",
              "EIRE                    2.273490e+05\n",
              "Germany                 1.892810e+05\n",
              "France                  1.512936e+05\n",
              "Australia               1.312786e+05\n",
              "Spain                   4.955474e+04\n",
              "Switzerland             4.541369e+04\n",
              "Sweden                  3.496390e+04\n",
              "Belgium                 3.141483e+04\n",
              "Portugal                2.798680e+04\n",
              "Japan                   2.700825e+04\n",
              "Norway                  2.405452e+04\n",
              "Singapore               2.127929e+04\n",
              "Channel Islands         1.873727e+04\n",
              "Finland                 1.732639e+04\n",
              "Denmark                 1.608687e+04\n",
              "Cyprus                  1.312949e+04\n",
              "Italy                   1.073340e+04\n",
              "Austria                 8.185700e+03\n",
              "Israel                  7.221690e+03\n",
              "Poland                  5.973420e+03\n",
              "Greece                  4.079530e+03\n",
              "Canada                  3.666380e+03\n",
              "Iceland                 2.790860e+03\n",
              "USA                     2.695150e+03\n",
              "Unspecified             2.667070e+03\n",
              "Malta                   1.982160e+03\n",
              "United Arab Emirates    1.902280e+03\n",
              "Lebanon                 1.693880e+03\n",
              "Lithuania               1.661060e+03\n",
              "European Community      1.300250e+03\n",
              "Brazil                  1.143600e+03\n",
              "RSA                     1.002310e+03\n",
              "Czech Republic          8.267400e+02\n",
              "Bahrain                 5.484000e+02\n",
              "Saudi Arabia            1.459200e+02\n",
              "Name: Total Expenditure, dtype: float64"
            ]
          },
          "metadata": {
            "tags": []
          },
          "execution_count": 62
        }
      ]
    },
    {
      "cell_type": "code",
      "metadata": {
        "id": "67ZGoKqAwHgv",
        "colab_type": "code",
        "outputId": "7364e341-4a26-4250-b059-41ff5ab4b8ed",
        "colab": {
          "base_uri": "https://localhost:8080/",
          "height": 238
        }
      },
      "source": [
        "#mean expenditure of each consumer per country\n",
        "df3['Total Expenditure'].groupby([df3['Country'],df3['CustomerID']]).mean()"
      ],
      "execution_count": 0,
      "outputs": [
        {
          "output_type": "execute_result",
          "data": {
            "text/plain": [
              "Country         CustomerID\n",
              "Australia       12386.0        40.190000\n",
              "                12388.0        27.111522\n",
              "                12393.0        24.728125\n",
              "                12415.0       173.586603\n",
              "                12422.0        18.390476\n",
              "                                 ...    \n",
              "United Kingdom  18287.0        26.367164\n",
              "Unspecified     12363.0        24.000000\n",
              "                12743.0         4.077836\n",
              "                14265.0        17.102581\n",
              "                16320.0        18.543929\n",
              "Name: Total Expenditure, Length: 3888, dtype: float64"
            ]
          },
          "metadata": {
            "tags": []
          },
          "execution_count": 63
        }
      ]
    },
    {
      "cell_type": "code",
      "metadata": {
        "id": "MAkJbph7KUPo",
        "colab_type": "code",
        "outputId": "3038ed06-6022-46dc-e993-0531d8266b1e",
        "colab": {
          "base_uri": "https://localhost:8080/",
          "height": 391
        }
      },
      "source": [
        "df3.groupby(\"Country\")[\"Total Expenditure\"].mean().sort_values(ascending=False).head(3).plot(kind='bar')"
      ],
      "execution_count": 0,
      "outputs": [
        {
          "output_type": "execute_result",
          "data": {
            "text/plain": [
              "<matplotlib.axes._subplots.AxesSubplot at 0x7f60e0c6e198>"
            ]
          },
          "metadata": {
            "tags": []
          },
          "execution_count": 67
        },
        {
          "output_type": "display_data",
          "data": {
            "image/png": "[encoded data removed]",
            "text/plain": [
              "<Figure size 432x288 with 1 Axes>"
            ]
          },
          "metadata": {
            "tags": []
          }
        }
      ]
    },
    {
      "cell_type": "code",
      "metadata": {
        "id": "2Mf3duRpwO4a",
        "colab_type": "code",
        "outputId": "d89c60e1-5e6f-43c5-f606-444278795d04",
        "colab": {
          "base_uri": "https://localhost:8080/",
          "height": 680
        }
      },
      "source": [
        "#mean expenditure per country\n",
        "df3['Total Expenditure'].groupby(df3['Country']).mean().sort_values(ascending = False)"
      ],
      "execution_count": 0,
      "outputs": [
        {
          "output_type": "execute_result",
          "data": {
            "text/plain": [
              "Country\n",
              "Netherlands             117.514373\n",
              "Australia               114.954982\n",
              "Japan                    98.931319\n",
              "Sweden                   97.664525\n",
              "Singapore                95.852658\n",
              "Denmark                  56.247797\n",
              "Lithuania                47.458857\n",
              "EIRE                     38.962979\n",
              "Lebanon                  37.641778\n",
              "Greece                   37.426881\n",
              "Brazil                   35.737500\n",
              "Norway                   33.642685\n",
              "Czech Republic           33.069600\n",
              "Bahrain                  32.258824\n",
              "Finland                  31.331627\n",
              "Switzerland              30.438130\n",
              "Israel                   29.119718\n",
              "United Arab Emirates     27.974706\n",
              "Channel Islands          27.966075\n",
              "Cyprus                   25.543755\n",
              "Austria                  25.500623\n",
              "Spain                    25.360665\n",
              "Germany                  25.328656\n",
              "Canada                   24.280662\n",
              "France                   23.769617\n",
              "Poland                   23.063398\n",
              "Portugal                 23.015461\n",
              "Iceland                  22.506935\n",
              "Italy                    21.727530\n",
              "European Community       21.670833\n",
              "United Kingdom           21.169101\n",
              "Malta                    19.821600\n",
              "Belgium                  19.782639\n",
              "USA                      18.334354\n",
              "RSA                      17.281207\n",
              "Saudi Arabia             16.213333\n",
              "Unspecified              10.930615\n",
              "Name: Total Expenditure, dtype: float64"
            ]
          },
          "metadata": {
            "tags": []
          },
          "execution_count": 64
        }
      ]
    },
    {
      "cell_type": "code",
      "metadata": {
        "id": "lL71c4J_T0ha",
        "colab_type": "code",
        "colab": {}
      },
      "source": [
        ""
      ],
      "execution_count": 0,
      "outputs": []
    }
  ]
}